{
  "cells": [
    {
      "cell_type": "markdown",
      "metadata": {
        "id": "vRnY963jq1CW"
      },
      "source": [
        "Authors: Hofmarcher\n",
        "\n",
        "Date: 20-03-2023\n",
        "\n",
        "---\n",
        "\n",
        "This file is part of the \"Deep Reinforcement Learning\" lecture material. The following copyright statement applies to all code within this file.\n",
        "\n",
        "Copyright statement:\n",
        "This material, no matter whether in printed or electronic form, may be used for personal and non-commercial educational use only. Any reproduction of this manuscript, no matter whether as a whole or in parts, no matter whether in printed or in electronic form, requires explicit prior acceptance of the authors."
      ]
    },
    {
      "cell_type": "markdown",
      "metadata": {
        "id": "eryXuKadrmRK"
      },
      "source": [
        "## Enable GPU Acceleration"
      ]
    },
    {
      "cell_type": "markdown",
      "metadata": {
        "id": "3e5BB3G1hXL5"
      },
      "source": [
        "---\n",
        "Before you start exploring this notebook make sure that GPU support is enabled.\n",
        "To enable the GPU backend for your notebook, go to **Edit** → **Notebook Settings** and set **Hardware accelerator** to **GPU**. \n",
        "\n",
        "---\n"
      ]
    },
    {
      "cell_type": "markdown",
      "metadata": {
        "id": "tBUs4yMsgRSz"
      },
      "source": [
        "# Imports"
      ]
    },
    {
      "cell_type": "markdown",
      "metadata": {
        "id": "D64rNsQCyL6Q"
      },
      "source": [
        "Install Gymnasium and dependencies to render the environments"
      ]
    },
    {
      "cell_type": "code",
      "execution_count": 1,
      "metadata": {
        "id": "zqL6W_Gkgp9a"
      },
      "outputs": [
        {
          "name": "stdout",
          "output_type": "stream",
          "text": [
            "Reading package lists... Done\n",
            "\u001b[1;31mE: \u001b[0mCould not open lock file /var/lib/apt/lists/lock - open (13: Permission denied)\u001b[0m\n",
            "\u001b[1;31mE: \u001b[0mUnable to lock directory /var/lib/apt/lists/\u001b[0m\n",
            "\u001b[1;33mW: \u001b[0mProblem unlinking the file /var/cache/apt/pkgcache.bin - RemoveCaches (13: Permission denied)\u001b[0m\n",
            "\u001b[1;33mW: \u001b[0mProblem unlinking the file /var/cache/apt/srcpkgcache.bin - RemoveCaches (13: Permission denied)\u001b[0m\n",
            "\u001b[1;31mE: \u001b[0mCould not open lock file /var/lib/dpkg/lock-frontend - open (13: Permission denied)\u001b[0m\n",
            "\u001b[1;31mE: \u001b[0mUnable to acquire the dpkg frontend lock (/var/lib/dpkg/lock-frontend), are you root?\u001b[0m\n",
            "Requirement already satisfied: gymnasium==0.27.1 in /home/hari/anaconda3/envs/jku_rl_ue/lib/python3.8/site-packages (0.27.1)\n",
            "Requirement already satisfied: pyvirtualdisplay in /home/hari/anaconda3/envs/jku_rl_ue/lib/python3.8/site-packages (3.0)\n",
            "Requirement already satisfied: imageio-ffmpeg in /home/hari/anaconda3/envs/jku_rl_ue/lib/python3.8/site-packages (0.4.8)\n",
            "Requirement already satisfied: moviepy==1.0.3 in /home/hari/anaconda3/envs/jku_rl_ue/lib/python3.8/site-packages (1.0.3)\n",
            "Requirement already satisfied: jax-jumpy>=0.2.0 in /home/hari/anaconda3/envs/jku_rl_ue/lib/python3.8/site-packages (from gymnasium==0.27.1) (1.0.0)\n",
            "Requirement already satisfied: cloudpickle>=1.2.0 in /home/hari/anaconda3/envs/jku_rl_ue/lib/python3.8/site-packages (from gymnasium==0.27.1) (2.2.1)\n",
            "Requirement already satisfied: typing-extensions>=4.3.0 in /home/hari/anaconda3/envs/jku_rl_ue/lib/python3.8/site-packages (from gymnasium==0.27.1) (4.5.0)\n",
            "Requirement already satisfied: importlib-metadata>=4.8.0 in /home/hari/anaconda3/envs/jku_rl_ue/lib/python3.8/site-packages (from gymnasium==0.27.1) (6.1.0)\n",
            "Requirement already satisfied: numpy>=1.21.0 in /home/hari/anaconda3/envs/jku_rl_ue/lib/python3.8/site-packages (from gymnasium==0.27.1) (1.24.2)\n",
            "Requirement already satisfied: gymnasium-notices>=0.0.1 in /home/hari/anaconda3/envs/jku_rl_ue/lib/python3.8/site-packages (from gymnasium==0.27.1) (0.0.1)\n",
            "Requirement already satisfied: proglog<=1.0.0 in /home/hari/anaconda3/envs/jku_rl_ue/lib/python3.8/site-packages (from moviepy==1.0.3) (0.1.10)\n",
            "Requirement already satisfied: requests<3.0,>=2.8.1 in /home/hari/anaconda3/envs/jku_rl_ue/lib/python3.8/site-packages (from moviepy==1.0.3) (2.28.2)\n",
            "Requirement already satisfied: decorator<5.0,>=4.0.2 in /home/hari/anaconda3/envs/jku_rl_ue/lib/python3.8/site-packages (from moviepy==1.0.3) (4.4.2)\n",
            "Requirement already satisfied: imageio<3.0,>=2.5 in /home/hari/anaconda3/envs/jku_rl_ue/lib/python3.8/site-packages (from moviepy==1.0.3) (2.26.0)\n",
            "Requirement already satisfied: tqdm<5.0,>=4.11.2 in /home/hari/anaconda3/envs/jku_rl_ue/lib/python3.8/site-packages (from moviepy==1.0.3) (4.65.0)\n",
            "Requirement already satisfied: swig==4.* in /home/hari/anaconda3/envs/jku_rl_ue/lib/python3.8/site-packages (from gymnasium==0.27.1) (4.1.1)\n",
            "Requirement already satisfied: pygame==2.1.3.dev8 in /home/hari/anaconda3/envs/jku_rl_ue/lib/python3.8/site-packages (from gymnasium==0.27.1) (2.1.3.dev8)\n",
            "Requirement already satisfied: box2d-py==2.3.5 in /home/hari/anaconda3/envs/jku_rl_ue/lib/python3.8/site-packages (from gymnasium==0.27.1) (2.3.5)\n",
            "Requirement already satisfied: pillow>=8.3.2 in /home/hari/anaconda3/envs/jku_rl_ue/lib/python3.8/site-packages (from imageio<3.0,>=2.5->moviepy==1.0.3) (9.4.0)\n",
            "Requirement already satisfied: zipp>=0.5 in /home/hari/anaconda3/envs/jku_rl_ue/lib/python3.8/site-packages (from importlib-metadata>=4.8.0->gymnasium==0.27.1) (3.15.0)\n",
            "Requirement already satisfied: urllib3<1.27,>=1.21.1 in /home/hari/anaconda3/envs/jku_rl_ue/lib/python3.8/site-packages (from requests<3.0,>=2.8.1->moviepy==1.0.3) (1.26.15)\n",
            "Requirement already satisfied: charset-normalizer<4,>=2 in /home/hari/anaconda3/envs/jku_rl_ue/lib/python3.8/site-packages (from requests<3.0,>=2.8.1->moviepy==1.0.3) (2.1.1)\n",
            "Requirement already satisfied: idna<4,>=2.5 in /home/hari/anaconda3/envs/jku_rl_ue/lib/python3.8/site-packages (from requests<3.0,>=2.8.1->moviepy==1.0.3) (3.4)\n",
            "Requirement already satisfied: certifi>=2017.4.17 in /home/hari/anaconda3/envs/jku_rl_ue/lib/python3.8/site-packages (from requests<3.0,>=2.8.1->moviepy==1.0.3) (2022.12.7)\n",
            "Requirement already satisfied: onnx in /home/hari/anaconda3/envs/jku_rl_ue/lib/python3.8/site-packages (1.13.0)\n",
            "Requirement already satisfied: onnx2pytorch==0.4.1 in /home/hari/anaconda3/envs/jku_rl_ue/lib/python3.8/site-packages (0.4.1)\n",
            "Requirement already satisfied: torchvision>=0.9.0 in /home/hari/anaconda3/envs/jku_rl_ue/lib/python3.8/site-packages (from onnx2pytorch==0.4.1) (0.14.1)\n",
            "Requirement already satisfied: torch>=1.4.0 in /home/hari/anaconda3/envs/jku_rl_ue/lib/python3.8/site-packages (from onnx2pytorch==0.4.1) (1.13.1)\n",
            "Requirement already satisfied: typing-extensions>=3.6.2.1 in /home/hari/anaconda3/envs/jku_rl_ue/lib/python3.8/site-packages (from onnx) (4.5.0)\n",
            "Requirement already satisfied: numpy>=1.16.6 in /home/hari/anaconda3/envs/jku_rl_ue/lib/python3.8/site-packages (from onnx) (1.24.2)\n",
            "Requirement already satisfied: protobuf in /home/hari/anaconda3/envs/jku_rl_ue/lib/python3.8/site-packages (from onnx) (4.22.1)\n",
            "Requirement already satisfied: requests in /home/hari/anaconda3/envs/jku_rl_ue/lib/python3.8/site-packages (from torchvision>=0.9.0->onnx2pytorch==0.4.1) (2.28.2)\n",
            "Requirement already satisfied: pillow!=8.3.*,>=5.3.0 in /home/hari/anaconda3/envs/jku_rl_ue/lib/python3.8/site-packages (from torchvision>=0.9.0->onnx2pytorch==0.4.1) (9.4.0)\n",
            "Requirement already satisfied: idna<4,>=2.5 in /home/hari/anaconda3/envs/jku_rl_ue/lib/python3.8/site-packages (from requests->torchvision>=0.9.0->onnx2pytorch==0.4.1) (3.4)\n",
            "Requirement already satisfied: urllib3<1.27,>=1.21.1 in /home/hari/anaconda3/envs/jku_rl_ue/lib/python3.8/site-packages (from requests->torchvision>=0.9.0->onnx2pytorch==0.4.1) (1.26.15)\n",
            "Requirement already satisfied: charset-normalizer<4,>=2 in /home/hari/anaconda3/envs/jku_rl_ue/lib/python3.8/site-packages (from requests->torchvision>=0.9.0->onnx2pytorch==0.4.1) (2.1.1)\n",
            "Requirement already satisfied: certifi>=2017.4.17 in /home/hari/anaconda3/envs/jku_rl_ue/lib/python3.8/site-packages (from requests->torchvision>=0.9.0->onnx2pytorch==0.4.1) (2022.12.7)\n"
          ]
        }
      ],
      "source": [
        "!apt update\n",
        "!apt install -y xvfb x11-utils python-opengl ffmpeg swig\n",
        "!pip install gymnasium==0.27.1 gymnasium[box2d] pyvirtualdisplay imageio-ffmpeg moviepy==1.0.3\n",
        "!pip install onnx onnx2pytorch==0.4.1"
      ]
    },
    {
      "cell_type": "code",
      "execution_count": 2,
      "metadata": {
        "id": "-ECmcPAOnhR4",
        "tags": []
      },
      "outputs": [],
      "source": [
        "%matplotlib inline\n",
        "\n",
        "# Auxiliary Python imports\n",
        "import os\n",
        "import math\n",
        "import io\n",
        "import base64\n",
        "import random\n",
        "import shutil\n",
        "from time import time, strftime\n",
        "from glob import glob\n",
        "from tqdm import tqdm\n",
        "import numpy as np\n",
        "\n",
        "# Pytorch\n",
        "import torch\n",
        "import torch.nn as nn\n",
        "from torch.distributions.categorical import Categorical\n",
        "import onnx\n",
        "from onnx2pytorch import ConvertModel\n",
        "\n",
        "# Environment import and set logger level to display error only\n",
        "import gymnasium as gym\n",
        "from gymnasium.spaces import Box\n",
        "from gymnasium import logger as gymlogger\n",
        "from gymnasium.wrappers import RecordVideo\n",
        "gymlogger.set_level(gym.logger.ERROR)\n",
        "\n",
        "# Plotting and notebook imports\n",
        "import matplotlib.pyplot as plt\n",
        "from matplotlib import animation\n",
        "from IPython.display import HTML, clear_output\n",
        "from IPython import display"
      ]
    },
    {
      "cell_type": "markdown",
      "metadata": {
        "id": "vCKe0oEsWDMe"
      },
      "source": [
        "# Select device for training"
      ]
    },
    {
      "cell_type": "markdown",
      "metadata": {
        "id": "wf0U5yqXWDMe"
      },
      "source": [
        "By default we train on GPU if one is available, otherwise we fall back to the CPU.\n",
        "If you want to always use the CPU change accordingly."
      ]
    },
    {
      "cell_type": "code",
      "execution_count": 3,
      "metadata": {
        "id": "s1npX57pWDMe"
      },
      "outputs": [
        {
          "name": "stdout",
          "output_type": "stream",
          "text": [
            "Device: cuda\n"
          ]
        }
      ],
      "source": [
        "device = torch.device(\"cuda\" if torch.cuda.is_available() else \"cpu\")\n",
        "print(\"Device: \" + str(device))"
      ]
    },
    {
      "cell_type": "markdown",
      "metadata": {
        "id": "De3CuyBLgXos"
      },
      "source": [
        "# Setup Google Drive mount to store your results"
      ]
    },
    {
      "cell_type": "code",
      "execution_count": 4,
      "metadata": {
        "id": "Vpd2i1MumjP0"
      },
      "outputs": [],
      "source": [
        "use_google_drive = False\n",
        "if use_google_drive:\n",
        "    from google.colab import drive\n",
        "    drive.mount('/content/drive')"
      ]
    },
    {
      "cell_type": "markdown",
      "metadata": {
        "id": "4IuPNzGVgGR0"
      },
      "source": [
        "# Download Dataset and Expert model"
      ]
    },
    {
      "cell_type": "code",
      "execution_count": 5,
      "metadata": {
        "id": "sy79qvPFfLRp",
        "tags": []
      },
      "outputs": [
        {
          "name": "stdout",
          "output_type": "stream",
          "text": [
            "--2023-04-05 16:35:47--  https://cloud.ml.jku.at/s/citYJKPgmAGrHGy/download\n",
            "Resolving cloud.ml.jku.at (cloud.ml.jku.at)... 140.78.90.41\n",
            "Connecting to cloud.ml.jku.at (cloud.ml.jku.at)|140.78.90.41|:443... connected.\n",
            "HTTP request sent, awaiting response... 200 OK\n",
            "Length: 6747975 (6.4M) [application/octet-stream]\n",
            "Saving to: ‘expert.onnx’\n",
            "\n",
            "expert.onnx         100%[===================>]   6.43M  10.9MB/s    in 0.6s    \n",
            "\n",
            "2023-04-05 16:35:47 (10.9 MB/s) - ‘expert.onnx’ saved [6747975/6747975]\n",
            "\n",
            "--2023-04-05 16:35:48--  https://cloud.ml.jku.at/s/yJ2ZsfqTos3Jn9y/download\n",
            "Resolving cloud.ml.jku.at (cloud.ml.jku.at)... 140.78.90.41\n",
            "Connecting to cloud.ml.jku.at (cloud.ml.jku.at)|140.78.90.41|:443... connected.\n",
            "HTTP request sent, awaiting response... 200 OK\n",
            "Length: 85373838 (81M) [application/zip]\n",
            "Saving to: ‘train.zip’\n",
            "\n",
            "train.zip           100%[===================>]  81.42M  11.1MB/s    in 7.3s    \n",
            "\n",
            "2023-04-05 16:35:55 (11.1 MB/s) - ‘train.zip’ saved [85373838/85373838]\n",
            "\n",
            "--2023-04-05 16:35:55--  https://cloud.ml.jku.at/s/3DxHLiqxTddepp8/download\n",
            "Resolving cloud.ml.jku.at (cloud.ml.jku.at)... 140.78.90.41\n",
            "Connecting to cloud.ml.jku.at (cloud.ml.jku.at)|140.78.90.41|:443... connected.\n",
            "HTTP request sent, awaiting response... 200 OK\n",
            "Length: 16290406 (16M) [application/zip]\n",
            "Saving to: ‘val.zip’\n",
            "\n",
            "val.zip             100%[===================>]  15.54M  11.1MB/s    in 1.4s    \n",
            "\n",
            "2023-04-05 16:35:57 (11.1 MB/s) - ‘val.zip’ saved [16290406/16290406]\n",
            "\n"
          ]
        }
      ],
      "source": [
        "# Download training and validation datasets\n",
        "!wget --no-check-certificate 'https://cloud.ml.jku.at/s/citYJKPgmAGrHGy/download' -O expert.onnx\n",
        "!wget --no-check-certificate 'https://cloud.ml.jku.at/s/yJ2ZsfqTos3Jn9y/download' -O train.zip\n",
        "!wget --no-check-certificate 'https://cloud.ml.jku.at/s/3DxHLiqxTddepp8/download' -O val.zip\n",
        "\n",
        "# Unzip datasets\n",
        "!unzip -q -o train.zip\n",
        "!unzip -q -o val.zip"
      ]
    },
    {
      "cell_type": "markdown",
      "metadata": {
        "id": "c5chkQUwj4pT"
      },
      "source": [
        "# Auxiliary Methods"
      ]
    },
    {
      "cell_type": "markdown",
      "metadata": {
        "id": "YBSdD-22WDMf"
      },
      "source": [
        "The following cell contains classes and functions to provide some functionality for logging, plotting and exporting your model in the format required by the submission server.\n",
        "You are free to use your own logging framework if you wish (such as tensorboard or Weights & Biases).\n",
        "The logger is a very simple implementation of a CSV-file based logger.\n",
        "Additionally it creates a folder for each run with subfolders for model files, logs and videos."
      ]
    },
    {
      "cell_type": "code",
      "execution_count": 6,
      "metadata": {
        "id": "JrjYL01ojsAD",
        "tags": []
      },
      "outputs": [],
      "source": [
        "class Logger():\n",
        "    def __init__(self, logdir, params=None):\n",
        "        self.basepath = os.path.join(logdir, strftime(\"%Y-%m-%dT%H-%M-%S\"))\n",
        "        os.makedirs(self.basepath, exist_ok=True)\n",
        "        os.makedirs(self.log_dir, exist_ok=True)\n",
        "        if params is not None and os.path.exists(params):\n",
        "            shutil.copyfile(params, os.path.join(self.basepath, \"params.pkl\"))\n",
        "        self.log_dict = {}\n",
        "        self.dump_idx = {}\n",
        "\n",
        "    @property\n",
        "    def param_file(self):\n",
        "        return os.path.join(self.basepath, \"params.pkl\")\n",
        "\n",
        "    @property\n",
        "    def onnx_file(self):\n",
        "        return os.path.join(self.basepath, \"model.onnx\")\n",
        "\n",
        "    @property\n",
        "    def video_dir(self):\n",
        "        return os.path.join(self.basepath, \"videos\")\n",
        "    \n",
        "    @property\n",
        "    def log_dir(self):\n",
        "        return os.path.join(self.basepath, \"logs\")\n",
        "\n",
        "    def log(self, name, value):\n",
        "        if name not in self.log_dict:\n",
        "            self.log_dict[name] = []\n",
        "            self.dump_idx[name] = -1\n",
        "        self.log_dict[name].append((len(self.log_dict[name]), time(), value))\n",
        "    \n",
        "    def get_values(self, name):\n",
        "        if name in self.log_dict:\n",
        "            return [x[2] for x in self.log_dict[name]]\n",
        "        return None\n",
        "    \n",
        "    def dump(self):\n",
        "        for name, rows in self.log_dict.items():\n",
        "            with open(os.path.join(self.log_dir, name + \".log\"), \"a\") as f:\n",
        "                for i, row in enumerate(rows):\n",
        "                    if i > self.dump_idx[name]:\n",
        "                        f.write(\",\".join([str(x) for x in row]) + \"\\n\")\n",
        "                        self.dump_idx[name] = i\n",
        "\n",
        "\n",
        "def plot_metrics(logger):\n",
        "    train_loss  = logger.get_values(\"training_loss\")\n",
        "    train_entropy  = logger.get_values(\"training_entropy\")\n",
        "    val_loss = logger.get_values(\"validation_loss\")\n",
        "    val_acc = logger.get_values(\"validation_accuracy\")\n",
        "    \n",
        "    fig = plt.figure(figsize=(15,5))\n",
        "    ax1 = fig.add_subplot(131, label=\"train\")\n",
        "    ax2 = fig.add_subplot(131, label=\"val\",frame_on=False)\n",
        "    ax4 = fig.add_subplot(132, label=\"entropy\")\n",
        "    ax3 = fig.add_subplot(133, label=\"acc\")\n",
        "\n",
        "    ax1.plot(train_loss, color=\"C0\")\n",
        "    ax1.set_ylabel(\"Loss\")\n",
        "    ax1.set_xlabel(\"Update (Training)\", color=\"C0\")        \n",
        "    ax1.xaxis.grid(False)  \n",
        "    ax1.set_ylim((0,4))\n",
        "\n",
        "    ax2.plot(val_loss, color=\"C1\")\n",
        "    ax2.xaxis.tick_top()\n",
        "    ax2.yaxis.tick_right()\n",
        "    ax2.set_xlabel('Epoch (Validation)', color=\"C1\")     \n",
        "    ax2.xaxis.set_label_position('top')     \n",
        "    ax2.xaxis.grid(False)\n",
        "    ax2.get_yaxis().set_visible(False)\n",
        "    ax2.set_ylim((0,4))\n",
        "\n",
        "    ax4.plot(train_entropy, color=\"C3\")    \n",
        "    ax4.set_xlabel('Update (Training)', color=\"black\")     \n",
        "    ax4.set_ylabel(\"Entropy\", color=\"C3\")\n",
        "    ax4.tick_params(axis='x', colors=\"black\")\n",
        "    ax4.tick_params(axis='y', colors=\"black\")\n",
        "    ax4.xaxis.grid(False)\n",
        "\n",
        "    ax3.plot(val_acc, color=\"C2\")\n",
        "    ax3.set_xlabel(\"Epoch (Validation)\", color=\"black\")\n",
        "    ax3.set_ylabel(\"Accuracy\", color=\"C2\")\n",
        "    ax3.tick_params(axis='x', colors=\"black\")\n",
        "    ax3.tick_params(axis='y', colors=\"black\")\n",
        "    ax3.xaxis.grid(False)\n",
        "    ax3.set_ylim((0,1))\n",
        "\n",
        "    fig.tight_layout(pad=2.0)\n",
        "    plt.show()\n",
        "    \n",
        "\"\"\"\n",
        "Utility functions to enable video recording of gym environment and displaying it\n",
        "\"\"\"\n",
        "def show_video(video_dir):\n",
        "    mp4list = glob(f'{video_dir}/*.mp4')\n",
        "    if len(mp4list) > 0:\n",
        "        mp4 = mp4list[0]\n",
        "        video = io.open(mp4, 'r+b').read()\n",
        "        encoded = base64.b64encode(video)\n",
        "        display.display(HTML(data='''<video alt=\"test\" autoplay \n",
        "                    loop controls style=\"height: 400px;\">\n",
        "                    <source src=\"data:video/mp4;base64,{0}\" type=\"video/mp4\" />\n",
        "                 </video>'''.format(encoded.decode('ascii'))))\n",
        "    else: \n",
        "        print(\"Could not find video\")\n",
        "\n",
        "def save_as_onnx(torch_model, sample_input, model_path):\n",
        "    torch.onnx.export(torch_model,             # model being run\n",
        "                    sample_input,              # model input (or a tuple for multiple inputs)\n",
        "                    f=model_path,              # where to save the model (can be a file or file-like object)\n",
        "                    export_params=True,        # store the trained parameter weights inside the model file\n",
        "                    opset_version=17,          # the ONNX version to export the model to - see https://github.com/microsoft/onnxruntime/blob/master/docs/Versioning.md\n",
        "                    do_constant_folding=True,  # whether to execute constant folding for optimization\n",
        "                    )"
      ]
    },
    {
      "cell_type": "markdown",
      "metadata": {
        "id": "P3QTC6sgj2Eq"
      },
      "source": [
        "# Dataset"
      ]
    },
    {
      "cell_type": "markdown",
      "metadata": {
        "id": "e4xmbKPRWDMg"
      },
      "source": [
        "Use this dataset class to load the provided demonstrations. Furthermore, this dataset has functionality to add new samples to the dataset which you will need for implementing the DAgger algorithm."
      ]
    },
    {
      "cell_type": "code",
      "execution_count": 7,
      "metadata": {
        "id": "q9ihClXhjvOT",
        "tags": []
      },
      "outputs": [],
      "source": [
        "class DemonstrationDataset(torch.utils.data.Dataset):\n",
        "    def __init__(self, data_dir):\n",
        "        self.data_dir = data_dir\n",
        "        self.files = sorted(glob(f\"{data_dir}/*.npz\"))\n",
        "    \n",
        "    def __len__(self):\n",
        "        return len(self.files)\n",
        "\n",
        "    def __getitem__(self, idx):\n",
        "        data = np.load(self.files[idx])\n",
        "        state = data[\"state\"][np.newaxis, ...].astype(np.float32)\n",
        "        action = data[\"action\"]\n",
        "        return state / 255.0, action.item()\n",
        "    \n",
        "    def append(self, states, actions):\n",
        "        offset = len(self) + 1\n",
        "        for i in range(len(states)):\n",
        "            filename = f\"{self.data_dir}/{offset+i:06}.npz\"\n",
        "            np.savez_compressed(filename, state=states[i], action=actions[i].astype(np.int32))\n",
        "            self.files.append(filename)"
      ]
    },
    {
      "cell_type": "markdown",
      "metadata": {
        "id": "vViEbSRZj_4x"
      },
      "source": [
        "# Inspect data"
      ]
    },
    {
      "cell_type": "markdown",
      "metadata": {
        "id": "0dUd_3KWWDMh"
      },
      "source": [
        "It is always a good idea to take a look at the data when you start working with a new dataset. Feel free to investigate the dataset further on your own."
      ]
    },
    {
      "cell_type": "code",
      "execution_count": 8,
      "metadata": {
        "id": "QYljPrjekEEL",
        "tags": []
      },
      "outputs": [
        {
          "name": "stdout",
          "output_type": "stream",
          "text": [
            "Number of samples: 49538\n"
          ]
        }
      ],
      "source": [
        "# Action Statistics\n",
        "dataset = DemonstrationDataset(\"train\")\n",
        "print(\"Number of samples: {}\".format(len(dataset)))"
      ]
    },
    {
      "cell_type": "code",
      "execution_count": 9,
      "metadata": {
        "id": "1itQJFxwkHYT",
        "tags": []
      },
      "outputs": [
        {
          "name": "stdout",
          "output_type": "stream",
          "text": [
            "Action: gas\n"
          ]
        },
        {
          "data": {
            "image/png": "[encoded data removed]",
            "text/plain": [
              "<Figure size 640x480 with 1 Axes>"
            ]
          },
          "metadata": {},
          "output_type": "display_data"
        }
      ],
      "source": [
        "# Action mapping from gymnasium.farama.org\n",
        "action_mapping = {\n",
        "    0: \"do nothing\",\n",
        "    1: \"steer left\",\n",
        "    2: \"steer right\",\n",
        "    3: \"gas\",\n",
        "    4: \"brake\"\n",
        "}\n",
        "\n",
        "# Visualize random frames\n",
        "idx = np.random.randint(len(dataset))\n",
        "state, action = dataset[idx]\n",
        "# store a single frame as we need it later for exporting an ONNX model (it needs a sample of the input for the export)\n",
        "sample_state = torch.Tensor(state).unsqueeze(0).to(device)\n",
        "# Display the sample\n",
        "print(f\"Action: {action_mapping[action]}\")\n",
        "plt.axis(\"off\")\n",
        "plt.imshow(state[0]);"
      ]
    },
    {
      "cell_type": "code",
      "execution_count": 10,
      "metadata": {
        "id": "87zShnVElwv7",
        "tags": []
      },
      "outputs": [],
      "source": [
        "# release memory\n",
        "del dataset"
      ]
    },
    {
      "cell_type": "markdown",
      "metadata": {
        "id": "YcUOi1VRmPTm"
      },
      "source": [
        "# Define Policy Network"
      ]
    },
    {
      "cell_type": "markdown",
      "metadata": {
        "id": "6R4iC1PIWDMh"
      },
      "source": [
        "You need to design a neural network architecture that is capable of mapping a state to an action.\n",
        "The input is a single image with the following properties:\n",
        "- Resolution of 84x84 pixels\n",
        "- Grayscale (meaning a single channel as opposed to three channels of an RGB image)\n",
        "- The values of each pixel should be between 0 and 1\n",
        "\n",
        "The output of the network should be one unit per possible action, as our environment has 5 actions that results in 5 output units.\n",
        "Your network must implement the forward function in order to be compatible with the evaluation script."
      ]
    },
    {
      "cell_type": "code",
      "execution_count": 11,
      "metadata": {
        "id": "xbVFFMoSmSpO",
        "tags": []
      },
      "outputs": [],
      "source": [
        "class PolicyNetwork(nn.Module):\n",
        "    def __init__(self, n_units_out):\n",
        "        super(PolicyNetwork, self).__init__()\n",
        "        self.layers = nn.Sequential(\n",
        "            nn.Conv2d(1,5,4),\n",
        "            nn.Conv2d(5,25,4),\n",
        "            nn.Linear(492804, 4000),\n",
        "            nn.Linear(4000, 400),\n",
        "            nn.Linear(400, n_units_out)\n",
        "        )\n",
        "        return None\n",
        "\n",
        "    def forward(self, x):\n",
        "        pred = self.layers(x)\n",
        "        print('hari')\n",
        "        return pred"
      ]
    },
    {
      "cell_type": "markdown",
      "metadata": {
        "id": "Tv8P8s4rnOZM"
      },
      "source": [
        "# Train behavioral cloning policy"
      ]
    },
    {
      "cell_type": "markdown",
      "metadata": {
        "id": "BcfU-i6_WDMh"
      },
      "source": [
        "Now that you have a Dataset and a network you need to train your network.\n",
        "With behavioral cloning we want to imitate the behavior of the agent that produced the demonstration dataset as close as possible.\n",
        "This is basically supervised learning, where you want to minimize the loss of your network on the training and validation sets.\n",
        "\n",
        "Some tips as to what you need to implement:\n",
        "- choose the appropriate loss function (think on which kind of problem you are solving)\n",
        "- choose an optimizer and its hyper-parameters\n",
        "- optional: use a learning-rate scheduler\n",
        "- don't forget to evaluate your network on the validation set\n",
        "- store your model and training progress often so you don't loose progress if your program crashes\n",
        "\n",
        "In case you use the provided Logger:\n",
        "- `logger.log(\"training_loss\", <loss-value>)` to log a particular value\n",
        "- `logger.dump()` to write the current logs to a log file (e.g. after every episode)\n",
        "- `logger.log_dir`, `logger.param_file`, `logger.onnx_file`, `logger.video_dir` point to files or directories you can use to save files\n",
        "- you might want to specify your google drive folder as a logdir in order to automatically sync your results\n",
        "- if you log the metrics specified in the `plot_metrics` function you can use it to visualize your training progress (or take it as a template to plot your own metrics)"
      ]
    },
    {
      "cell_type": "code",
      "execution_count": 12,
      "metadata": {
        "id": "pM7ylckLnRnP",
        "tags": []
      },
      "outputs": [
        {
          "name": "stdout",
          "output_type": "stream",
          "text": [
            "Saving state to logdir/2023-04-05T16-36-09\n",
            "Trainable Parameters: 1972824515\n"
          ]
        }
      ],
      "source": [
        "# choose the batchsize for training\n",
        "batch_size = 64\n",
        "\n",
        "# Datasets\n",
        "train_set = DemonstrationDataset(\"train\")\n",
        "train_loader = torch.utils.data.DataLoader(train_set, batch_size=batch_size, num_workers=2, shuffle=True, drop_last=False, pin_memory=True)\n",
        "val_set = DemonstrationDataset(\"val\")\n",
        "val_loader = torch.utils.data.DataLoader(val_set, batch_size=batch_size, num_workers=2, shuffle=False, drop_last=False, pin_memory=True)\n",
        "\n",
        "# Specify the google drive mount here if you want to store logs and weights there (and set it up earlier)\n",
        "# You can also choose to use a different logging framework such as tensorboard (not recommended on Colab) or Weights & Biases (highly recommended)\n",
        "logger = Logger(\"logdir\")\n",
        "print(\"Saving state to {}\".format(logger.basepath))\n",
        "\n",
        "# Network\n",
        "model = PolicyNetwork(n_units_out=5)\n",
        "model = model.to(device)\n",
        "num_trainable_params = sum(p.numel() for p in model.parameters() if p.requires_grad)\n",
        "print(\"Trainable Parameters: {}\".format(num_trainable_params))\n",
        "\n",
        "######################\n",
        "### YOUR CODE HERE ###\n",
        "######################\n",
        "# Implement your training and evaluation loop \n",
        "# feel free to define your own functions for training and evaluation \n",
        "\n",
        "# If you want to export your model as an ONNX file use the following code as template\n",
        "# If you use the provided logger you can use this directly\n",
        "for idx, (img, lab) in enumerate(train_loader):\n",
        "    pred = model.forward(img)\n",
        "save_as_onnx(model, sample_state, logger.onnx_file)"
      ]
    },
    {
      "cell_type": "markdown",
      "metadata": {
        "id": "1PelO4qdwuwK"
      },
      "source": [
        "# Evaluate the agent in the real environment"
      ]
    },
    {
      "cell_type": "markdown",
      "metadata": {
        "id": "cVrASW_Hy1lo"
      },
      "source": [
        "### Environment and Agent"
      ]
    },
    {
      "cell_type": "markdown",
      "metadata": {
        "id": "aTFAzdfiaYmu"
      },
      "source": [
        "We provide some wrappers you need in order to get the same states from the environment as in the demonstration dataset.\n",
        "Additionally the `RecordState` wrapper should be very helpful in collecting new samples for the DAgger algorithm."
      ]
    },
    {
      "cell_type": "code",
      "execution_count": null,
      "metadata": {
        "id": "dJeEIolVw0OQ",
        "tags": []
      },
      "outputs": [],
      "source": [
        "class CropObservation(gym.ObservationWrapper):\n",
        "    def __init__(self, env, shape):\n",
        "        gym.ObservationWrapper.__init__(self, env)\n",
        "        self.shape = shape\n",
        "        obs_shape = self.shape + env.observation_space.shape[2:]\n",
        "        self.observation_space = Box(low=0, high=255, shape=obs_shape, dtype=np.uint8)\n",
        "\n",
        "    def observation(self, observation):\n",
        "        return observation[:self.shape[0], :self.shape[1]]\n",
        "\n",
        "    \n",
        "class RecordState(gym.Wrapper):\n",
        "    def __init__(self, env: gym.Env, reset_clean: bool = True):\n",
        "        gym.Wrapper.__init__(self, env)\n",
        "\n",
        "        assert env.render_mode is not None\n",
        "        self.frame_list = []\n",
        "        self.reset_clean = reset_clean\n",
        "\n",
        "    def step(self, action, **kwargs):\n",
        "        output = self.env.step(action, **kwargs)\n",
        "        self.frame_list.append(output[0])\n",
        "        return output\n",
        "\n",
        "    def reset(self, *args, **kwargs):\n",
        "        result = self.env.reset(*args, **kwargs)\n",
        "\n",
        "        if self.reset_clean:\n",
        "            self.frame_list = []\n",
        "        self.frame_list.append(result[0])\n",
        "\n",
        "        return result\n",
        "\n",
        "    def render(self):\n",
        "        frames = self.frame_list\n",
        "        self.frame_list = []\n",
        "        return frames\n",
        "    \n",
        "\n",
        "class Agent():\n",
        "    def __init__(self, model, device):\n",
        "        self.model = model\n",
        "        self.device = device\n",
        "\n",
        "    def select_action(self, state):        \n",
        "        with torch.no_grad():\n",
        "            state = torch.Tensor(state).unsqueeze(0).to(device) / 255.0 # rescale\n",
        "            logits = self.model(state)\n",
        "            if type(logits) is tuple:\n",
        "                logits = logits[0]\n",
        "            probs = Categorical(logits=logits)\n",
        "            return probs.sample().cpu().numpy()[0]\n",
        "        \n",
        "            \n",
        "def make_env(seed, capture_video=True):\n",
        "    env = gym.make(\"CarRacing-v2\", render_mode=\"rgb_array\", continuous=False)\n",
        "    env = gym.wrappers.RecordEpisodeStatistics(env)\n",
        "    if capture_video:\n",
        "        env = gym.wrappers.RecordVideo(env, logger.video_dir)\n",
        "            \n",
        "    env = CropObservation(env, (84, 96))\n",
        "    env = gym.wrappers.ResizeObservation(env, (84, 84))\n",
        "    env = gym.wrappers.GrayScaleObservation(env)    \n",
        "    env = RecordState(env, reset_clean=True)\n",
        "    env = gym.wrappers.FrameStack(env, 4)\n",
        "    env.reset(seed=seed)\n",
        "    env.action_space.seed(seed)\n",
        "    env.observation_space.seed(seed)\n",
        "    return env\n",
        "\n",
        "\n",
        "def run_episode(agent, show_progress=True, capture_video=True, seed=None):\n",
        "    env = make_env(seed=seed, capture_video=capture_video)\n",
        "    state, _ = env.reset()\n",
        "    score = 0\n",
        "    done = False\n",
        "    if show_progress:\n",
        "        progress = tqdm(desc=\"Score: 0\")\n",
        "        \n",
        "    while not done:\n",
        "        action = agent.select_action(state[-1][np.newaxis, ...])\n",
        "        state, reward, terminated, truncated, _ = env.step(action)\n",
        "        score += reward\n",
        "        done = terminated or truncated\n",
        "        if show_progress:\n",
        "            progress.update()\n",
        "            progress.set_description(\"Score: {:.2f}\".format(score))       \n",
        "    env.close()\n",
        "    \n",
        "    if show_progress:\n",
        "        progress.close()    \n",
        "    if capture_video:\n",
        "        show_video(logger.video_dir)\n",
        "    \n",
        "    return score"
      ]
    },
    {
      "cell_type": "markdown",
      "metadata": {
        "id": "QkjTFDi3y72N"
      },
      "source": [
        "## Evaluate behavioral cloning agent"
      ]
    },
    {
      "cell_type": "markdown",
      "metadata": {
        "id": "w0JaMOvxzBio"
      },
      "source": [
        "Let's see how the agent is doing in the real environment"
      ]
    },
    {
      "cell_type": "code",
      "execution_count": null,
      "metadata": {
        "id": "IrqzgG-bzXws",
        "tags": []
      },
      "outputs": [],
      "source": [
        "train_policy = Agent(model, device)\n",
        "score = run_episode(train_policy, show_progress=True, capture_video=True);\n",
        "print(f\"Score: {score:.2f}\")"
      ]
    },
    {
      "cell_type": "markdown",
      "metadata": {
        "id": "dtqNU8QXAaHP"
      },
      "source": [
        "Since we often have high variance when evaluating RL agents we should evaluate the agent multiple times to get a better feeling for its performance."
      ]
    },
    {
      "cell_type": "code",
      "execution_count": null,
      "metadata": {
        "id": "WY5BeIKXAZs8",
        "tags": []
      },
      "outputs": [],
      "source": [
        "train_policy = Agent(model, device)\n",
        "n_eval_episodes = 10\n",
        "scores = []\n",
        "for i in tqdm(range(n_eval_episodes), desc=\"Episode\"):\n",
        "    scores.append(run_episode(train_policy, show_progress=False, capture_video=False))\n",
        "    print(\"Score: %d\" % scores[-1])\n",
        "print(\"Mean Score: %.2f (Std: %.2f)\" %(np.mean(scores), np.std(scores)))"
      ]
    },
    {
      "cell_type": "markdown",
      "metadata": {
        "id": "kmDAORUGhJQD"
      },
      "source": [
        "# DAGGER"
      ]
    },
    {
      "cell_type": "markdown",
      "metadata": {
        "id": "M8Y8WBIkXvlP"
      },
      "source": [
        "Now we can implement DAgger, you have downloaded a relatively well trained model you can use as an expert for this purpose.\n",
        "\n",
        "Load expert model that is provided as ONNX file."
      ]
    },
    {
      "cell_type": "markdown",
      "metadata": {
        "id": "kqFaY_8ZprUw"
      },
      "source": [
        "## Load the expert"
      ]
    },
    {
      "cell_type": "code",
      "execution_count": null,
      "metadata": {
        "id": "7QxdNRHnpw4V",
        "tags": []
      },
      "outputs": [],
      "source": [
        "# Load expert\n",
        "expert_model = ConvertModel(onnx.load(\"expert.onnx\"))\n",
        "expert_model = expert_model.to(device)\n",
        "# Freeze expert weights\n",
        "for p in expert_model.parameters():\n",
        "    p.requires_grad = False\n",
        "    \n",
        "expert_policy = Agent(expert_model, device)"
      ]
    },
    {
      "cell_type": "markdown",
      "metadata": {
        "id": "MmYXqfOZX0Yr"
      },
      "source": [
        "Next, you have to implement the DAgger algorithm (see slides for details). This function implements the core idea of DAgger:\n",
        "\n",
        "\n",
        "1. Choose the policy with probability beta\n",
        "2. Sample T-step trajectories using this policy\n",
        "3. Label the gathered states with the expert\n",
        "\n",
        "The aggregation and training part are already implemented."
      ]
    },
    {
      "cell_type": "code",
      "execution_count": null,
      "metadata": {
        "id": "jso18L4z2Gio",
        "tags": []
      },
      "outputs": [],
      "source": [
        "# inner loop of DAgger\n",
        "def dagger(env, train_policy, expert_policy, dataset, beta=1.):\n",
        "    \n",
        "    ######################\n",
        "    ### YOUR CODE HERE ###\n",
        "    ######################\n",
        "    \n",
        "    # Implement DAgger algorithm here\n",
        "    # 1) Choose a policy (sample according to beta)\n",
        "    # 2) Sample T-step trajectory with the chosen policy \n",
        "    #    (T can be an entire episode or a single state, think about what makes more sense here and implement it accordingly)\n",
        "    # 3) Label the state (or states) with your expert if they come from your training policy\n",
        "    \n",
        "    #### Note ####\n",
        "    # To get an action for the current state from your training policy or expert policy:\n",
        "    # action = policy.select_action(state) \n",
        "    # \n",
        "    # Your training policy requires a single grayscale state while \n",
        "    # the expert policy requires four stacked grayscale states\n",
        "    # You can prepare your state for the policy like so:\n",
        "    # Train policy: \n",
        "    #      np.expand_dims(state[-1], 0)\n",
        "    # Expert policy:\n",
        "    #      state\n",
        "    \n",
        "    \n",
        "    # Due to the RecordState wrapper you can get the states from the environment by calling \n",
        "    # env.render()\n",
        "    # Doing so will clear the list and the next time you call .render() will return the new states since the last call.\n",
        "    # Note: be careful with the last state\n",
        "    \n",
        "    # Finally, add collected states and the actions the expert would execute in them to the dataset\n",
        "    # dataset.append(states, actions)"
      ]
    },
    {
      "cell_type": "markdown",
      "metadata": {
        "id": "svRD7bwpWDMj"
      },
      "source": [
        "Put everything together now. \n",
        "1. Create new samples using the DAgger algorithm\n",
        "2. Continue training your agent\n",
        "3. Export your fully trained agent as an ONNX file"
      ]
    },
    {
      "cell_type": "code",
      "execution_count": null,
      "metadata": {
        "id": "wXlZWzRsZ2dJ",
        "tags": []
      },
      "outputs": [],
      "source": [
        "# Specify the google drive mount here if you want to store logs and weights there (and set it up earlier)\n",
        "logger = Logger(\"logdir_dagger\")\n",
        "print(\"Saving state to {}\".format(logger.basepath))\n",
        "\n",
        "# start environment\n",
        "env = make_env(seed=42, capture_video=False)\n",
        "\n",
        "# Training\n",
        "######################\n",
        "### YOUR CODE HERE ###\n",
        "######################\n",
        "\n",
        "save_as_onnx(model, sample_state, logger.onnx_file)\n",
        "env.close()"
      ]
    },
    {
      "cell_type": "code",
      "execution_count": null,
      "metadata": {
        "id": "1iOeC98o9Pw-",
        "tags": []
      },
      "outputs": [],
      "source": [
        "n_eval_episodes = 10\n",
        "scores = []\n",
        "for i in tqdm(range(n_eval_episodes), desc=\"Episode\"):\n",
        "    scores.append(run_episode(train_policy, show_progress=False, capture_video=False))\n",
        "    print(\"Score: %d\" % scores[-1])\n",
        "print(\"Mean Score: %.2f (Std: %.2f)\" %(np.mean(scores), np.std(scores)))"
      ]
    }
  ],
  "metadata": {
    "accelerator": "GPU",
    "colab": {
      "machine_shape": "hm",
      "private_outputs": true,
      "provenance": []
    },
    "kernelspec": {
      "display_name": "Python 3 (ipykernel)",
      "language": "python",
      "name": "python3"
    },
    "language_info": {
      "codemirror_mode": {
        "name": "ipython",
        "version": 3
      },
      "file_extension": ".py",
      "mimetype": "text/x-python",
      "name": "python",
      "nbconvert_exporter": "python",
      "pygments_lexer": "ipython3",
      "version": "3.8.16"
    }
  },
  "nbformat": 4,
  "nbformat_minor": 0
}
